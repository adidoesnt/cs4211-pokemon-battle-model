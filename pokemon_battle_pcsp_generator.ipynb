{
  "nbformat": 4,
  "nbformat_minor": 0,
  "metadata": {
    "colab": {
      "provenance": [],
      "collapsed_sections": [
        "sMk9N5EQfaNK",
        "skyP1NUXEbZ8"
      ]
    },
    "kernelspec": {
      "name": "python3",
      "display_name": "Python 3"
    },
    "language_info": {
      "name": "python"
    }
  },
  "cells": [
    {
      "cell_type": "markdown",
      "source": [
        "# Imports"
      ],
      "metadata": {
        "id": "8wRGz9d9BYkf"
      }
    },
    {
      "cell_type": "code",
      "execution_count": 1,
      "metadata": {
        "id": "r2Bk1oftBEBX"
      },
      "outputs": [],
      "source": [
        "import os\n",
        "import pandas as pd\n",
        "import math\n",
        "import random"
      ]
    },
    {
      "cell_type": "markdown",
      "source": [
        "# OS functions\n"
      ],
      "metadata": {
        "id": "w3b3DWYtBcQM"
      }
    },
    {
      "cell_type": "code",
      "source": [
        "def remove_old_model(csp_filename):\n",
        "    if os.path.exists(csp_filename):\n",
        "        os.remove(csp_filename)\n",
        "        print(\"Old model removed\")"
      ],
      "metadata": {
        "id": "PhQS69o7BiHQ"
      },
      "execution_count": 2,
      "outputs": []
    },
    {
      "cell_type": "markdown",
      "source": [
        "# Getters"
      ],
      "metadata": {
        "id": "fyWdMozuBoyE"
      }
    },
    {
      "cell_type": "code",
      "source": [
        "# Returns an array of that pokemon's moveset\n",
        "def get_moves(pokemon, team_df):\n",
        "    moves = ['move1', 'move2', 'move3', 'move4']\n",
        "    pokemon_moves = []\n",
        "    for move in moves:\n",
        "        pokemon_moves.append(team_df.loc[team_df['pokemon'] == pokemon][move].values[0])\n",
        "    return pokemon_moves\n",
        "\n",
        "# Returns an array with the move info\n",
        "# Index info corresponds to -> 0: Type, 1: Power, 2: Acc., 3:Effect\n",
        "# Effect is used to check for High critical hit ratio moves only\n",
        "def get_move_info(move, moves_df):\n",
        "    info_names = ['Type', 'Power', 'Acc.', 'Damage_class', 'Effect']\n",
        "    info_values = []\n",
        "\n",
        "    for info in info_names:\n",
        "            info_values.append(moves_df.loc[moves_df['Name'] == move][info].values[0])\n",
        "    return info_values\n",
        "\n",
        "def get_pokemon_stats(pokemon, team_df):\n",
        "    stat_name_list = ['attack', 'defense', 'sp. attack', 'sp. defense']\n",
        "    stats = []\n",
        "    for stat in stat_name_list:\n",
        "        stats.append(team_df.loc[team_df['pokemon'] == pokemon][stat].values[0])\n",
        "    return stats\n",
        "\n",
        "# Returns a list of lists\n",
        "# List of pokemon\n",
        "# Each pokemon is a list of its attributes\n",
        "def get_trainer_pokemon_data(team_df, pokemon_df):\n",
        "    pokemon_list = []\n",
        "    for pokemon_name in team_df['pokemon']:\n",
        "        # Add info from provided csv\n",
        "        pokemon = []\n",
        "        raw_data = team_df.loc[team_df['pokemon'] == pokemon_name].values[0]\n",
        "        for i in range(7):\n",
        "            pokemon.append(raw_data[i])\n",
        "        moves = []\n",
        "        for i in range(7, len(raw_data)):\n",
        "            moves.append(raw_data[i])\n",
        "        pokemon.append(moves)\n",
        "\n",
        "        # Get pokemon type from database csvs\n",
        "        types = []\n",
        "        for i in range(1,3):\n",
        "            type_name = pokemon_df.loc[pokemon_df['Name'] == pokemon_name]['Type' + str(i)].values[0]\n",
        "            if(isinstance(type_name, str)):\n",
        "                types.append(type_name)\n",
        "        pokemon.append(types)\n",
        "        pokemon_list.append(pokemon)\n",
        "\n",
        "    return pokemon_list\n",
        "\n",
        "def get_hp(trainerPokemons, trainer, pokemon):\n",
        "    return trainerPokemons[trainer][pokemon][2]\n",
        "\n",
        "def get_type_effectiveness_multiplier(move_type, pokemon, type_vs_type_df):\n",
        "    pokemon_types = pokemon[8]\n",
        "    multiplier = 1\n",
        "    for def_type in pokemon_types:\n",
        "        next_mult = (type_vs_type_df.loc[\n",
        "            (type_vs_type_df['Atk. Move Type'] == move_type) & \n",
        "            (type_vs_type_df['Def. Pokemon Type'] == def_type)\n",
        "            ]\n",
        "            ['Damage Multiplier'].values[0])\n",
        "        if(not math.isnan(next_mult)):\n",
        "            multiplier = multiplier * next_mult\n",
        "    return multiplier\n",
        "\n",
        "def get_damage_without_crit(atk_pokemon, def_pokemon, move_info, type_effectiveness_multiplier):\n",
        "    atk_stat = atk_pokemon[5] if (move_info[3] == 'Special') else atk_pokemon[3]\n",
        "    def_stat = def_pokemon[6] if (move_info[3] == 'Special') else def_pokemon[4]\n",
        "    atk_level = atk_pokemon[1]\n",
        "\n",
        "    \n",
        "    # Same type attack bonus\n",
        "    STAB = 1\n",
        "    for type_name in atk_pokemon[8]:\n",
        "        if(move_info[0] == type_name):\n",
        "            STAB = 1.5\n",
        "\n",
        "    random_int = random.randint(85, 100) / 100\n",
        "\n",
        "    damage = (((((2 * atk_level / 5) + 2) * move_info[1] * (atk_stat / def_stat))\n",
        "            / 50) * \n",
        "            STAB * type_effectiveness_multiplier * random_int)\n",
        "    \n",
        "    \n",
        "    \n",
        "    return round(damage)\n",
        "\n",
        "def get_probability(rank):\n",
        "    probability = 1\n",
        "    if(rank == 3):\n",
        "        return 0.9\n",
        "    elif(rank == 2):\n",
        "        return 0.06\n",
        "    elif(rank == 1):\n",
        "        return 0.03\n",
        "    else:\n",
        "        return 0.01\n",
        "\n",
        "# Returns an array of floats as probabilities\n",
        "# [chance of miss, chance of hit and hit is non critical, chance of hit and hit is critical]\n",
        "def get_move_hit_probabilities(acc, is_high_crit):\n",
        "    high_crit_probability = 0.125\n",
        "    normal_crit_probability = 0.0664\n",
        "    hit_probability = acc / 100\n",
        "\n",
        "    if(is_high_crit):\n",
        "        chance_of_normal_hit = round(hit_probability * (1 - high_crit_probability), 2)\n",
        "        chance_of_crit_hit = round(hit_probability * high_crit_probability, 2)\n",
        "    else:\n",
        "        chance_of_normal_hit = round(hit_probability * (1 - normal_crit_probability), 2)\n",
        "        chance_of_crit_hit = round(hit_probability * normal_crit_probability, 2)\n",
        "    \n",
        "    chance_of_miss = round(1 - chance_of_crit_hit - chance_of_normal_hit, 2)\n",
        "\n",
        "    return [chance_of_miss, chance_of_normal_hit, chance_of_crit_hit]\n",
        "\n",
        "    \n",
        "    "
      ],
      "metadata": {
        "id": "bjRmuDgvBt-u"
      },
      "execution_count": 3,
      "outputs": []
    },
    {
      "cell_type": "markdown",
      "source": [
        "# Checkers\n"
      ],
      "metadata": {
        "id": "sMk9N5EQfaNK"
      }
    },
    {
      "cell_type": "code",
      "source": [
        "def is_high_crit_ratio(move, moves_df):\n",
        "    effect = moves_df.loc[moves_df['Name'] == move]['Effect'].values[0]\n",
        "    if(not isinstance(effect, str)):\n",
        "        return False\n",
        "    else:\n",
        "        return \"High critical hit ratio\" in effect\n",
        "\n"
      ],
      "metadata": {
        "id": "db7WcfS5ffJi"
      },
      "execution_count": 4,
      "outputs": []
    },
    {
      "cell_type": "markdown",
      "source": [
        "# Template File writers"
      ],
      "metadata": {
        "id": "skyP1NUXEbZ8"
      }
    },
    {
      "cell_type": "code",
      "source": [
        "def write_defines(file):\n",
        "    file.write('#define active 1; //trainer active\\n')\n",
        "    file.write('#define inactive 0; //trainer inactive\\n')\n",
        "    file.write('#define win 2; // trainer wins\\n')\n",
        "    file.write('#define lose -1; //trainer loses\\n')\n",
        "\n",
        "def write_initial_states(file):\n",
        "    file.write(\"var trainer[2] = [active, inactive]; //initial trainer states\\n\")\n",
        "    file.write(\"var currentPokemon[2] = [0, 0]; // index of trainers current pokemon\\n\")\n",
        "\n",
        "def write_rotate(file):\n",
        "    rotate_state = \"rotate() = \\n\\\n",
        "        [trainer[0] == active && trainer[1] == inactive]switchTrainer{trainer[0] = inactive; trainer[1] = active} -> move(1)\\n\\\n",
        "        []\\n\\\n",
        "        [trainer[1] == active && trainer[0] == inactive]switchTrainer{trainer[1] = inactive; trainer[0] = active} -> move(0);\\n\"\n",
        "    file.write(rotate_state)\n",
        "\n",
        "\n",
        "def write_switch(file):\n",
        "    switch = (\"switch(i, c) =\\n\" + \n",
        "              \"\\t[i == 1]sendPokemon.i{if (trainer1HealthStats[c] <= 0) {currentPokemon[i] = c + 1}} -> end()\\n\" +\n",
        "              \"\\t[]\\n\" +\n",
        "              \"\\t[i == 0]sendPokemon.i{if (trainer0HealthStats[c] <= 0) {currentPokemon[i] = c + 1}} -> end();\\n\")\n",
        "    file.write(switch)\n",
        "\n",
        "\n",
        "def write_start(file):\n",
        "    start = (\"start() = \\n\" +\n",
        "\t\"\\ttrainer0start{trainer[0] = active; trainer[1] = inactive} -> move(0)\\n\" +\n",
        "\t\"\\t[]\\n\" +\n",
        "\t\"\\ttrainer1start{trainer[1] = active; trainer[0] = inactive} -> move(1);\\n\")\n",
        "    file.write(start)\n",
        "\n",
        "def write_simulate_assert(file):\n",
        "    simulate = (\"simulate = start();\\n\" +\n",
        "    \"\\n\" +\n",
        "    \"#define trainer0wins (trainer[0] == win && trainer[1] == lose);\\n\" +\n",
        "    \"#define trainer1wins (trainer[1] == win && trainer[0] == lose);\\n\" +\n",
        "    \"#define bothtrainerswin (trainer[0] == win && trainer[1] == win);\\n\" +\n",
        "    \"#define bothtrainerslose (trainer[0] == lose && trainer[1] == lose);\\n\" +\n",
        "    \"\\n\" +\n",
        "    \"#assert simulate reaches trainer0wins;\\n\" +\n",
        "    \"#assert simulate reaches trainer1wins;\\n\" +\n",
        "    \"#assert simulate reaches bothtrainerswin;\\n\" +\n",
        "    \"#assert simulate reaches bothtrainerslose;\\n\"\n",
        "    \"#assert simulate reaches trainer0wins with prob;\\n\"\n",
        "    \"#assert simulate reaches trainer1wins with prob;\\n\")\n",
        "\n",
        "    file.write(simulate)\n",
        "\n",
        "\n",
        "\n",
        "    "
      ],
      "metadata": {
        "id": "xYeDTdxmEiDe"
      },
      "execution_count": 5,
      "outputs": []
    },
    {
      "cell_type": "markdown",
      "source": [],
      "metadata": {
        "id": "qmtLHkfPf3Gv"
      }
    },
    {
      "cell_type": "markdown",
      "source": [
        "# File Writers"
      ],
      "metadata": {
        "id": "CSW7XQZzBy4k"
      }
    },
    {
      "cell_type": "code",
      "source": [
        "\n",
        "\n",
        "def write_comment(file, line):\n",
        "    file.write(\"// \" + str(line) + \"\\n\")\n",
        "\n",
        "\n",
        "def write_team_composition_comment(file, teams_df_list):\n",
        "    for i in range(2):\n",
        "        trainer = \"trainer\" + str(i)\n",
        "        pokemons = teams_df_list[i]['pokemon']\n",
        "\n",
        "        write_comment(file, trainer + \"'s team:\")\n",
        "        for pokemon in pokemons:\n",
        "            write_comment(file, pokemon)\n",
        "            \n",
        "            # Write pokemon stats\n",
        "            stats = get_pokemon_stats(pokemon, teams_df_list[i])\n",
        "            stat_line = \"\"\n",
        "            stat_name_list = ['attack', 'defense', 'sp. attack', 'sp. defense']\n",
        "            for j in range(4):\n",
        "                stat_line = stat_line + stat_name_list[j] + \": \" + str(stats[j]) + \" \"\n",
        "            stat_line = stat_line[:-1]\n",
        "            write_comment(file, \"\\t\" + stat_line)\n",
        "\n",
        "            moves = get_moves(pokemon, teams_df_list[i])\n",
        "            for move in moves:\n",
        "                move_info = get_move_info(move, moves_df)\n",
        "                info_names = ['Type', 'Power', 'Acc.', 'Effect']\n",
        "                move_info_line = \"\"\n",
        "                for j in range(4):\n",
        "                    move_info_line = move_info_line + info_names[j] + \": \" + str(move_info[j]) + \" \"\n",
        "                move_info_line = \"\\t\" + move_info_line[:-1]\n",
        "                write_comment(file, \"\\t{0:<15}{1}\".format(move, move_info_line))\n",
        "        file.write(\"\\n\")\n",
        "\n",
        "def write_health_stats(file, trainerPokemons):\n",
        "    for i in range(2):\n",
        "        trainerHealthStats = (\"var trainer{0}HealthStats[\" + str(len(trainerPokemons[i])) + \"] = [\").format(str(i))\n",
        "        for pokemon in trainerPokemons[i]:\n",
        "            hp = pokemon[2]\n",
        "            trainerHealthStats = trainerHealthStats + str(hp) + \", \"\n",
        "        trainerHealthStats = trainerHealthStats[:-2]\n",
        "        trainerHealthStats = trainerHealthStats + \"];\\n\"\n",
        "        file.write(trainerHealthStats)\n",
        "\n",
        "\n",
        "def write_damage_pcase_line(file, probability, i, trainer):\n",
        "    if (probability == 0):\n",
        "        return\n",
        "    \n",
        "    if (i == 0):\n",
        "        process = \"missFoe\"\n",
        "        damage = 0\n",
        "    elif (i == 1):\n",
        "        process = \"hitFoe\"\n",
        "        damage = \"d\"\n",
        "    else:\n",
        "        process = \"criticalHitFoe\"\n",
        "        damage = \"(d * 2)\"\n",
        "    \n",
        "\n",
        "    trainerHealth = \"trainer1HealthStats\" if (trainer == 0) else \"trainer0HealthStats\"\n",
        "    \n",
        "    line = \"        [\" + str(probability) + \"]: \" + process + \".i{\" + trainerHealth + \"[m] = \" + trainerHealth + \"[m] - \" + str(damage) + \"} -> switch(\" + str((trainer + 1) % 2) + \", m)\\n\"\n",
        "    file.write(line)\n",
        "\n",
        "\n",
        "def write_move(file, trainerPokemons):\n",
        "    move = \"move(i) = \\n\"\n",
        "    for i in range(2):\n",
        "        for j in range(len(trainerPokemons[(i + 1) % 2])):\n",
        "            trainer = str(i)\n",
        "            otherTrainer = str((i + 1) % 2)\n",
        "            otherTrainerPokemon = str(j)\n",
        "            move = move + (\n",
        "                \"\\t[i == \" + trainer + \" && currentPokemon[\" + otherTrainer + \"] == \" + otherTrainerPokemon +\"]\" +\n",
        "                \"attackFoe.i -> attack(i, \" + otherTrainerPokemon + \")\")\n",
        "            if (not (i == 1 and j == len(trainerPokemons[(i + 1) % 2]) - 1)):\n",
        "                move = move + \"\\n\\t[]\\n\"\n",
        "    move = move + \";\\n\"\n",
        "    file.write(move)\n",
        "\n",
        "def write_end(file, trainerPokemons):\n",
        "    end = \"end() =\\n\"\n",
        "    num_trainer0Pokemon = str(len(trainerPokemons[0]) - 1)\n",
        "    num_trainer1Pokemon = str(len(trainerPokemons[1]) - 1)\n",
        "    for i in range(2):\n",
        "        trainer = str(i)\n",
        "        otherTrainer = str((i + 1) % 2)\n",
        "        end = end + (\n",
        "             \"\\t[currentPokemon[\" + trainer + \"] > \" + str(len(trainerPokemons[i]) - 1) + \"]\" +\n",
        "             \"trainer\" + otherTrainer + \"win{trainer[\" + trainer + \"] = lose; trainer[\" + otherTrainer + \"] = win} -> Stop\\n\" +\n",
        "             \"\\t[]\\n\"\n",
        "        )\n",
        "    end = end + (\n",
        "        \"\\t[currentPokemon[0] <=\" + num_trainer0Pokemon + \" && currentPokemon[1] <= \" + num_trainer1Pokemon +\"] \" +\n",
        "        \"rotate();\\n\"\n",
        "    )\n",
        "    file.write(end)"
      ],
      "metadata": {
        "id": "d_8jNp6yWRTn"
      },
      "execution_count": 12,
      "outputs": []
    },
    {
      "cell_type": "markdown",
      "source": [
        "# Misc Logic\n"
      ],
      "metadata": {
        "id": "Ke3QaV1PKi0R"
      }
    },
    {
      "cell_type": "code",
      "source": [
        "def rank_moves(damage_list):\n",
        "    rank_list = [-1, -1, -1, -1]\n",
        "    for i in range(4):\n",
        "        count = 0\n",
        "        for j in range(4):\n",
        "            if(i == j):\n",
        "                continue\n",
        "            if(damage_list[i] > damage_list[j]):\n",
        "                count = count + 1\n",
        "        rank_list[i] = count\n",
        "    \n",
        "    has_duplicates = True\n",
        "    while(has_duplicates):\n",
        "        has_duplicates = False\n",
        "        for i in range(4):\n",
        "            count = 0\n",
        "            for j in range(4):\n",
        "                if(i == j):\n",
        "                    continue\n",
        "                if(rank_list[i] == rank_list[j]):\n",
        "                    count = count + 1\n",
        "                    has_duplicates = True\n",
        "            rank_list[i] = rank_list[i] + count\n",
        "    return rank_list\n",
        "\n"
      ],
      "metadata": {
        "id": "vCtLEDb1Kn8R"
      },
      "execution_count": 7,
      "outputs": []
    },
    {
      "cell_type": "markdown",
      "source": [
        "# Main"
      ],
      "metadata": {
        "id": "_RZiXh-6X4ny"
      }
    },
    {
      "cell_type": "code",
      "source": [
        "trainer0TeamInfo_df = pd.read_csv('trainer1.csv')\n",
        "trainer1TeamInfo_df = pd.read_csv('trainer2.csv')\n",
        "moves_df = pd.read_csv('df_moves.csv')\n",
        "pokemon_df = pd.read_csv('df_pokemon.csv')\n",
        "type_vs_type_df = pd.read_csv('bridge_type_type_MOVE_EFFECTIVENESS_ON_POKEMON.csv')\n",
        "\n",
        "trainers = ['trainer0', 'trainer1']\n",
        "moves = ['move1', 'move2', 'move3', 'move4']\n",
        "NAME = 0\n",
        "LEVEL = 1\n",
        "HP = 2\n",
        "ATK = 3\n",
        "DEF = 4\n",
        "SP_ATK = 5\n",
        "SP_DEF = 6\n",
        "MOVES = 7 \n",
        "TYPES = 8\n",
        "\n",
        "\n",
        "pcsp_filename = \"battle_simulator_multiple_pokemon_real_data.pcsp\"\n",
        "remove_old_model(pcsp_filename)\n",
        "\n",
        "pcsp = open(pcsp_filename, 'w')\n",
        "\n",
        "# Set up required data\n",
        "trainerPokemons = []\n",
        "trainerPokemons.append(get_trainer_pokemon_data(trainer0TeamInfo_df, pokemon_df))\n",
        "trainerPokemons.append(get_trainer_pokemon_data(trainer1TeamInfo_df, pokemon_df))\n",
        "\n",
        "# Write team info as comments to pcsp\n",
        "teams = [trainer0TeamInfo_df, trainer1TeamInfo_df]\n",
        "write_team_composition_comment(pcsp, teams)\n",
        "\n",
        "# Write model template\n",
        "write_defines(pcsp)\n",
        "pcsp.write(\"\\n\")\n",
        "write_initial_states(pcsp)\n",
        "pcsp.write(\"\\n\")\n",
        "write_health_stats(pcsp, trainerPokemons)\n",
        "pcsp.write(\"\\n\")\n",
        "write_rotate(pcsp)\n",
        "pcsp.write(\"\\n\")\n",
        "write_move(pcsp, trainerPokemons)\n",
        "pcsp.write(\"\\n\")\n",
        "\n",
        "\n",
        "# Write attack process -> attack(i, m)\n",
        "pcsp.write(\"attack(i, m) = \")\n",
        "for i in range(2):\n",
        "    for j in range(len(trainerPokemons[i])):\n",
        "        for k in range(len(trainerPokemons[(i + 1) % 2])):\n",
        "            pcsp.write(\"[i == {0} && currentPokemon[i] == {1} && m == {2}]pokemon{1}attack -> pcase \".format(str(i), str(j), str(k)) + \"{\\n\")\n",
        "            \n",
        "            atk_pokemon_moves = trainerPokemons[i][j][MOVES]\n",
        "            atk_pokemon_moves_info = []\n",
        "            def_pokemon = trainerPokemons[(i + 1) % 2][k]\n",
        "            atk_pokemon = trainerPokemons[i][j]\n",
        "\n",
        "            for move in atk_pokemon_moves:\n",
        "                atk_pokemon_moves_info.append(get_move_info(move, moves_df))\n",
        "\n",
        "            atk_moves_damage = []\n",
        "            for move_info in atk_pokemon_moves_info:\n",
        "                effectiveness = get_type_effectiveness_multiplier(move_info[0], def_pokemon, type_vs_type_df)\n",
        "                damage = get_damage_without_crit(atk_pokemon, def_pokemon, move_info, effectiveness)\n",
        "                atk_moves_damage.append(damage)\n",
        "            \n",
        "            moves_damage_ranking = rank_moves(atk_moves_damage)\n",
        "            for l in range(4):\n",
        "                probability = get_probability(moves_damage_ranking[l])\n",
        "                pcsp.write(\"\\t[{0}]: damage({1}, {2}, {3}, {4}, m)\\n\".format(str(probability), str(i), str(j), str(l), str(atk_moves_damage[l])))\n",
        "            \n",
        "            if(not(\n",
        "                i == 1 and \n",
        "                j == len(trainerPokemons[i]) - 1 and \n",
        "                k == len(trainerPokemons[(i + 1) % 2]) - 1)):\n",
        "                pcsp.write(\"\\t} [] \")\n",
        "            else:\n",
        "                pcsp.write(\"\\t};\\n\")\n",
        "\n",
        "pcsp.write(\"\\n\")\n",
        "\n",
        "\n",
        "# Write Damage process\n",
        "pcsp.write(\"//i: Trainer j: Trainer pokemon l: pokemon move m: opponent pokemon\\n\")\n",
        "pcsp.write(\"damage(i, j, l, d, m) = \\n\")\n",
        "\n",
        "for i in range(2):\n",
        "    for j in range(len(trainerPokemons[i])):\n",
        "        for k in range(4):\n",
        "            pcsp.write(\"\\t[i == {0} && j == {1} && l == {2}]damageFoe.i\".format(str(i), str(j), str(k)))\n",
        "            pcsp.write(\" -> pcase {\\n\")\n",
        "            move = trainerPokemons[i][j][MOVES][k]\n",
        "            move_info = get_move_info(move, moves_df)\n",
        "            move_acc = int(move_info[2]) if (move_info[2].isnumeric()) else 100\n",
        "            move_is_high_crit = is_high_crit_ratio(move, moves_df)\n",
        "            move_hit_probabilities = get_move_hit_probabilities(move_acc, move_is_high_crit)\n",
        "\n",
        "            for l in range(3):\n",
        "                prob = move_hit_probabilities[l]\n",
        "                write_damage_pcase_line(pcsp, prob, l, i)\n",
        "\n",
        "            if(not(\n",
        "                i == 1 and \n",
        "                j == len(trainerPokemons[i]) - 1 and \n",
        "                k == 3)):\n",
        "                pcsp.write(\"\\t}\\n\")\n",
        "                pcsp.write(\"\\t[]\\n\")\n",
        "            else:\n",
        "                pcsp.write(\"\\t};\\n\")\n",
        "pcsp.write(\"\\n\")\n",
        "\n",
        "write_switch(pcsp)\n",
        "pcsp.write(\"\\n\")\n",
        "write_end(pcsp, trainerPokemons)\n",
        "pcsp.write(\"\\n\")\n",
        "write_start(pcsp)\n",
        "pcsp.write(\"\\n\")\n",
        "write_simulate_assert(pcsp)\n",
        "\n",
        "\n",
        "pcsp.close()"
      ],
      "metadata": {
        "id": "FlJ_FdAQBMJD",
        "colab": {
          "base_uri": "https://localhost:8080/"
        },
        "outputId": "9ac5a672-c3a5-483b-d970-e7e69743be28"
      },
      "execution_count": 14,
      "outputs": [
        {
          "output_type": "stream",
          "name": "stdout",
          "text": [
            "Old model removed\n"
          ]
        }
      ]
    },
    {
      "cell_type": "code",
      "source": [],
      "metadata": {
        "id": "Dm7GLOqTZICw"
      },
      "execution_count": 8,
      "outputs": []
    }
  ]
}